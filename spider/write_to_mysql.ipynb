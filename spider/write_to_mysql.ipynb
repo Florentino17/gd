{
 "cells": [
  {
   "cell_type": "code",
   "execution_count": null,
   "metadata": {},
   "outputs": [],
   "source": []
  },
  {
   "cell_type": "code",
   "execution_count": 30,
   "metadata": {},
   "outputs": [],
   "source": [
    "# 读取数据\n",
    "import pandas as pd\n",
    "import datetime"
   ]
  },
  {
   "cell_type": "code",
   "execution_count": 47,
   "metadata": {},
   "outputs": [
    {
     "name": "stdout",
     "output_type": "stream",
     "text": [
      "     project  change_id          created  \\\n",
      "0  egit/egit        108  2012/2/10 18:24   \n",
      "1  jgit/jgit        335  2012/2/10 18:24   \n",
      "2  egit/egit        382  2012/2/10 18:24   \n",
      "3  egit/egit        383  2012/2/10 18:24   \n",
      "4  jgit/jgit       1334  2012/2/10 18:24   \n",
      "5  jgit/jgit       1557  2012/2/10 18:24   \n",
      "6  jgit/jgit       1614  2012/2/10 18:24   \n",
      "7  jgit/jgit       1615  2012/2/10 18:24   \n",
      "8  jgit/jgit       1815          24:37.0   \n",
      "9  jgit/jgit       1905          24:37.0   \n",
      "\n",
      "                                             subject  author_experience  \\\n",
      "0  Reload a project's git config when a project w...               2.32   \n",
      "1  'core.pathencoding' property introduced at per...               1.12   \n",
      "2  Galileo-based target platform definition for S...               2.32   \n",
      "3              Use JGit from the nightly update site               2.32   \n",
      "4  Have git-ls tree to accept path args like git-...               2.02   \n",
      "5   show: Implement command line show for any object               2.36   \n",
      "6               Add basic support for .gitattributes               1.84   \n",
      "7    [DRAFT] WorkingTreeIterator supports attributes               1.84   \n",
      "8                     Provide native lstat() via JNI               2.36   \n",
      "9  Avoid a syscall to get the file size if modifi...               2.35   \n",
      "\n",
      "   author_merge_ratio  author_changes_per_week  author_merge_ratio_in_project  \\\n",
      "0                 0.5                     0.00                            0.5   \n",
      "1                 0.5                     0.00                            0.5   \n",
      "2                 0.5                     0.00                            0.5   \n",
      "3                 0.5                     0.00                            0.5   \n",
      "4                 0.5                     0.00                            0.5   \n",
      "5                 0.5                     0.00                            0.5   \n",
      "6                 0.5                     0.00                            0.5   \n",
      "7                 0.5                     0.00                            0.5   \n",
      "8                 0.0                     0.21                            0.5   \n",
      "9                 0.5                     0.00                            0.5   \n",
      "\n",
      "   total_change_num author_review_num  ... degree_centrality  \\\n",
      "0                 1                 8  ...              0.06   \n",
      "1                 0                 1  ...              0.00   \n",
      "2                 1                 8  ...              0.06   \n",
      "3                 1                 8  ...              0.06   \n",
      "4                 0                 4  ...              0.00   \n",
      "5                 0                43  ...              0.18   \n",
      "6                 0                 3  ...              0.00   \n",
      "7                 0                 3  ...              0.00   \n",
      "8                18               199  ...              0.64   \n",
      "9                29                87  ...              0.64   \n",
      "\n",
      "   closeness_centrality  betweenness_centrality  eigenvector_centrality  \\\n",
      "0                  0.38                    0.00                    0.03   \n",
      "1                  0.00                    0.00                    0.00   \n",
      "2                  0.38                    0.00                    0.03   \n",
      "3                  0.38                    0.00                    0.03   \n",
      "4                  0.00                    0.00                    0.00   \n",
      "5                  0.44                    0.08                    0.11   \n",
      "6                  0.00                    0.00                    0.00   \n",
      "7                  0.00                    0.00                    0.00   \n",
      "8                  0.73                    0.12                    0.42   \n",
      "9                  0.73                    0.07                    0.42   \n",
      "\n",
      "   clustering_coefficient  k_coreness  avg_score  status     time  rounds  \n",
      "0                    0.00         1.0        0.0     0.0   786.93     2.0  \n",
      "1                    0.00         0.0        0.0     0.0  2026.79     2.0  \n",
      "2                    0.00         1.0        0.0     0.0   500.03     2.0  \n",
      "3                    0.00         1.0        0.0     0.0   500.03     2.0  \n",
      "4                    0.00         0.0        2.0     1.0   500.03     4.0  \n",
      "5                    0.00         2.0        2.0     1.0   500.03     4.0  \n",
      "6                    0.00         0.0        2.0     1.0  1062.38    24.0  \n",
      "7                    0.00         0.0        0.0     0.0   500.03     1.0  \n",
      "8                    0.16         4.0        0.0     0.0  1223.92    17.0  \n",
      "9                    0.18         4.0        0.0     0.0   500.03     1.0  \n",
      "\n",
      "[10 rows x 82 columns]\n"
     ]
    },
    {
     "name": "stderr",
     "output_type": "stream",
     "text": [
      "C:\\Users\\Florentino\\AppData\\Local\\Temp\\ipykernel_12932\\3746390469.py:1: DtypeWarning: Columns (9,10,18,23,26,28,29,30) have mixed types. Specify dtype option on import or set low_memory=False.\n",
      "  data = pd.read_csv(\"E://Desktop//data//Eclipse.csv\",encoding = \"cp1252\")\n"
     ]
    }
   ],
   "source": [
    "\n",
    "data = pd.read_csv(\"E://Desktop//data//Eclipse.csv\",encoding = \"cp1252\")\n",
    "print(data.head(10))"
   ]
  },
  {
   "cell_type": "code",
   "execution_count": 44,
   "metadata": {},
   "outputs": [],
   "source": [
    "# # data.iloc[1,2].split(.)\n",
    "# new_time = datetime.datetime.strptime(data.iloc[1,2], '%Y-%m-%d %H:%M:%S')"
   ]
  },
  {
   "cell_type": "code",
   "execution_count": 41,
   "metadata": {},
   "outputs": [],
   "source": [
    "def shijian(dd):\n",
    "    dd = datetime.datetime.strptime(dd, \"%Y-%m-%d %H:%M:%S\")\n",
    "    return dd\n",
    "\n"
   ]
  },
  {
   "cell_type": "code",
   "execution_count": null,
   "metadata": {},
   "outputs": [],
   "source": [
    "data.iloc[1,2]=data.iloc[1,2].split('.')[0]\n",
    "#主要是时间，另一个是true，false，其他不用管"
   ]
  },
  {
   "cell_type": "code",
   "execution_count": 42,
   "metadata": {},
   "outputs": [],
   "source": [
    "data.iloc[1,2]=shijian(data.iloc[1,2])"
   ]
  },
  {
   "cell_type": "code",
   "execution_count": 26,
   "metadata": {},
   "outputs": [],
   "source": [
    "data['created'] = pd.to_datetime(data['created'], format='%Y-%m-%d-%H:%M:%S.%f', errors='coerce') "
   ]
  },
  {
   "cell_type": "code",
   "execution_count": 43,
   "metadata": {},
   "outputs": [
    {
     "data": {
      "text/plain": [
       "datetime.datetime(2012, 2, 10, 18, 24, 37)"
      ]
     },
     "execution_count": 43,
     "metadata": {},
     "output_type": "execute_result"
    }
   ],
   "source": [
    "data.iloc[1,2]"
   ]
  }
 ],
 "metadata": {
  "kernelspec": {
   "display_name": "pygd38",
   "language": "python",
   "name": "python3"
  },
  "language_info": {
   "codemirror_mode": {
    "name": "ipython",
    "version": 3
   },
   "file_extension": ".py",
   "mimetype": "text/x-python",
   "name": "python",
   "nbconvert_exporter": "python",
   "pygments_lexer": "ipython3",
   "version": "3.8.13"
  },
  "orig_nbformat": 4
 },
 "nbformat": 4,
 "nbformat_minor": 2
}
